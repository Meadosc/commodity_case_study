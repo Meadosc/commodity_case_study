{
 "cells": [
  {
   "cell_type": "markdown",
   "metadata": {},
   "source": [
    "# Wheat Exploration"
   ]
  },
  {
   "cell_type": "code",
   "execution_count": 2,
   "metadata": {},
   "outputs": [],
   "source": [
    "import numpy as np\n",
    "import pandas as pd\n",
    "import matplotlib.pyplot as plt"
   ]
  },
  {
   "cell_type": "code",
   "execution_count": 3,
   "metadata": {},
   "outputs": [],
   "source": [
    "df_raw = pd.read_csv(\"data_raw/all_commodities.csv\")"
   ]
  },
  {
   "cell_type": "code",
   "execution_count": 4,
   "metadata": {},
   "outputs": [
    {
     "data": {
      "text/plain": [
       "Paris               1071\n",
       "England              668\n",
       "Pisa                 658\n",
       "Southern England     655\n",
       "Valencia             597\n",
       "                    ... \n",
       "Osaka                 14\n",
       "Maimensing            12\n",
       "Santiago              12\n",
       "Ath                   10\n",
       "Midnapur               2\n",
       "Name: Location, Length: 150, dtype: int64"
      ]
     },
     "execution_count": 4,
     "metadata": {},
     "output_type": "execute_result"
    }
   ],
   "source": [
    "# Examine Wheat\n",
    "df_wheat = df_raw.loc[df_raw[\"Commodity\"] == \"Wheat\"]\n",
    "df_wheat[\"Location\"].value_counts() # What areas are represented?"
   ]
  },
  {
   "cell_type": "code",
   "execution_count": 5,
   "metadata": {},
   "outputs": [
    {
     "name": "stdout",
     "output_type": "stream",
     "text": [
      "655\n",
      "655\n",
      "678\n"
     ]
    }
   ],
   "source": [
    "# Get Engalnd wheat, as it is the largest set\n",
    "df_wheat_england = df_wheat.loc[df_wheat[\"Location\"] == \"Southern England\"]\n",
    "df_wheat_england = df_wheat_england.sort_values(by=[\"Item Year\"])\n",
    "print(df_wheat_england.shape[0])\n",
    "print(len(df_wheat_england[\"Item Year\"].unique())) # Confirm all values are unique\n",
    "print(1915-1237)"
   ]
  },
  {
   "cell_type": "code",
   "execution_count": 8,
   "metadata": {},
   "outputs": [
    {
     "data": {
      "text/plain": [
       "0     1237\n",
       "1     1238\n",
       "2     1239\n",
       "3     1240\n",
       "4     1241\n",
       "5     1242\n",
       "6     1243\n",
       "7     1244\n",
       "8     1245\n",
       "9     1246\n",
       "10    1247\n",
       "11    1248\n",
       "12    1249\n",
       "13    1250\n",
       "14    1251\n",
       "15    1252\n",
       "16    1253\n",
       "17    1254\n",
       "18    1255\n",
       "19    1256\n",
       "20    1257\n",
       "21    1258\n",
       "22    1259\n",
       "dtype: int64"
      ]
     },
     "execution_count": 8,
     "metadata": {},
     "output_type": "execute_result"
    }
   ],
   "source": [
    "# lest compare sets and see what's missing.\n",
    "ls_of_yrs = df_wheat_england[\"Item Year\"]\n",
    "type(ls_of_yrs)\n",
    "year_s = pd.Series(np.arange(1237, 1915))\n",
    "pd.concat([ls_of_yrs,year_s]).drop_duplicates(keep=False) # The missing years in englands wheat commodity pricing"
   ]
  },
  {
   "cell_type": "code",
   "execution_count": 10,
   "metadata": {},
   "outputs": [
    {
     "data": {
      "text/plain": [
       "103399    1260\n",
       "103400    1261\n",
       "103401    1262\n",
       "103402    1263\n",
       "103403    1264\n",
       "          ... \n",
       "104049    1910\n",
       "104050    1911\n",
       "104051    1912\n",
       "104052    1913\n",
       "104053    1914\n",
       "Name: Item Year, Length: 655, dtype: int64"
      ]
     },
     "execution_count": 10,
     "metadata": {},
     "output_type": "execute_result"
    }
   ],
   "source": [
    "df_wheat_england[\"Item Year\"]"
   ]
  },
  {
   "cell_type": "code",
   "execution_count": 11,
   "metadata": {},
   "outputs": [
    {
     "data": {
      "text/plain": [
       "[Text(0.5, 0, 'year'),\n",
       " Text(0, 0.5, 'price (silver standard / litre)'),\n",
       " Text(0.5, 1.0, 'Wheat Prices in England from 1237 to 1914')]"
      ]
     },
     "execution_count": 11,
     "metadata": {},
     "output_type": "execute_result"
    },
    {
     "data": {
      "image/png": "[encoded data removed]",
      "text/plain": [
       "<Figure size 432x288 with 1 Axes>"
      ]
     },
     "metadata": {
      "needs_background": "light"
     },
     "output_type": "display_data"
    }
   ],
   "source": [
    "fig, ax = plt.subplots()\n",
    "ax.plot(df_wheat_england[\"Item Year\"], df_wheat_england[\"Standard Value\"])\n",
    "ax.set(xlabel='year', ylabel='price (silver standard / litre)',\n",
    "       title='Wheat Prices in England from 1237 to 1914')"
   ]
  },
  {
   "cell_type": "code",
   "execution_count": null,
   "metadata": {},
   "outputs": [],
   "source": []
  },
  {
   "cell_type": "code",
   "execution_count": null,
   "metadata": {},
   "outputs": [],
   "source": []
  }
 ],
 "metadata": {
  "kernelspec": {
   "display_name": "Python 3",
   "language": "python",
   "name": "python3"
  },
  "language_info": {
   "codemirror_mode": {
    "name": "ipython",
    "version": 3
   },
   "file_extension": ".py",
   "mimetype": "text/x-python",
   "name": "python",
   "nbconvert_exporter": "python",
   "pygments_lexer": "ipython3",
   "version": "3.6.8"
  }
 },
 "nbformat": 4,
 "nbformat_minor": 4
}
