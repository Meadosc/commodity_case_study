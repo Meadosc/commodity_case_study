{
 "cells": [
  {
   "cell_type": "markdown",
   "metadata": {},
   "source": [
    "# First Level Data"
   ]
  },
  {
   "cell_type": "code",
   "execution_count": 1,
   "metadata": {},
   "outputs": [],
   "source": [
    "import numpy as np\n",
    "import pandas as pd"
   ]
  },
  {
   "cell_type": "code",
   "execution_count": 2,
   "metadata": {},
   "outputs": [],
   "source": [
    "df_raw = pd.read_csv(\"data_raw/all_commodities.csv\")"
   ]
  },
  {
   "cell_type": "code",
   "execution_count": 3,
   "metadata": {},
   "outputs": [
    {
     "name": "stdout",
     "output_type": "stream",
     "text": [
      "(127255, 12)\n"
     ]
    }
   ],
   "source": [
    "print(df_raw.shape)"
   ]
  },
  {
   "cell_type": "code",
   "execution_count": 4,
   "metadata": {},
   "outputs": [
    {
     "data": {
      "text/html": [
       "<div>\n",
       "<style scoped>\n",
       "    .dataframe tbody tr th:only-of-type {\n",
       "        vertical-align: middle;\n",
       "    }\n",
       "\n",
       "    .dataframe tbody tr th {\n",
       "        vertical-align: top;\n",
       "    }\n",
       "\n",
       "    .dataframe thead th {\n",
       "        text-align: right;\n",
       "    }\n",
       "</style>\n",
       "<table border=\"1\" class=\"dataframe\">\n",
       "  <thead>\n",
       "    <tr style=\"text-align: right;\">\n",
       "      <th></th>\n",
       "      <th>Item Year</th>\n",
       "      <th>Original Value</th>\n",
       "      <th>Standard Value</th>\n",
       "      <th>Original Currency</th>\n",
       "      <th>Standard Currency</th>\n",
       "      <th>Orignal Measure</th>\n",
       "      <th>Standard Measure</th>\n",
       "      <th>Sources</th>\n",
       "      <th>Notes</th>\n",
       "      <th>Location</th>\n",
       "      <th>Commodity</th>\n",
       "      <th>Variety</th>\n",
       "    </tr>\n",
       "  </thead>\n",
       "  <tbody>\n",
       "  </tbody>\n",
       "</table>\n",
       "</div>"
      ],
      "text/plain": [
       "Empty DataFrame\n",
       "Columns: [Item Year, Original Value, Standard Value, Original Currency, Standard Currency, Orignal Measure, Standard Measure, Sources, Notes, Location, Commodity, Variety]\n",
       "Index: []"
      ]
     },
     "execution_count": 4,
     "metadata": {},
     "output_type": "execute_result"
    }
   ],
   "source": [
    "df_raw.head(0)"
   ]
  },
  {
   "cell_type": "code",
   "execution_count": 5,
   "metadata": {},
   "outputs": [
    {
     "data": {
      "text/plain": [
       "count     127255\n",
       "unique       165\n",
       "top        Wheat\n",
       "freq       23129\n",
       "Name: Commodity, dtype: object"
      ]
     },
     "execution_count": 5,
     "metadata": {},
     "output_type": "execute_result"
    }
   ],
   "source": [
    "df_raw[\"Commodity\"].describe()"
   ]
  },
  {
   "cell_type": "code",
   "execution_count": 6,
   "metadata": {},
   "outputs": [
    {
     "data": {
      "text/plain": [
       "count    127255.000000\n",
       "mean         54.156522\n",
       "std         954.797964\n",
       "min           0.000116\n",
       "25%           0.357736\n",
       "50%           1.149183\n",
       "75%           7.425000\n",
       "max      107372.805540\n",
       "Name: Standard Value, dtype: float64"
      ]
     },
     "execution_count": 6,
     "metadata": {},
     "output_type": "execute_result"
    }
   ],
   "source": [
    "df_raw[\"Standard Value\"].describe()"
   ]
  },
  {
   "cell_type": "code",
   "execution_count": 7,
   "metadata": {},
   "outputs": [
    {
     "data": {
      "text/plain": [
       "Wheat         23129\n",
       "Rye            9239\n",
       "Barley         8601\n",
       "Wine           4678\n",
       "Oats           4563\n",
       "              ...  \n",
       "Oranges           7\n",
       "Buchwheat         5\n",
       "Speck             5\n",
       "Fish              4\n",
       "Underpants        4\n",
       "Name: Commodity, Length: 165, dtype: int64"
      ]
     },
     "execution_count": 7,
     "metadata": {},
     "output_type": "execute_result"
    }
   ],
   "source": [
    "df_raw[\"Commodity\"].value_counts()"
   ]
  },
  {
   "cell_type": "code",
   "execution_count": 8,
   "metadata": {},
   "outputs": [
    {
     "data": {
      "text/plain": [
       "Item Year                                                         1567\n",
       "Original Value                                                 1594.18\n",
       "Standard Value                                                  107373\n",
       "Original Currency                                          White Grosz\n",
       "Standard Currency                                               Silver\n",
       "Orignal Measure                                         Wroclaw Length\n",
       "Standard Measure                                        Wroclaw Length\n",
       "Sources              (M. Wolanski) (Ceny we Wroclawiu w Latach 1506...\n",
       "Notes                (gpih.ucdavis.edu)-(D.S.Jacks_2002-P.H.Lindert...\n",
       "Location                                                       Wroclaw\n",
       "Commodity                                                        Cloth\n",
       "Variety                                                            NaN\n",
       "Name: 125024, dtype: object"
      ]
     },
     "execution_count": 8,
     "metadata": {},
     "output_type": "execute_result"
    }
   ],
   "source": [
    "df_raw.iloc[df_raw[\"Standard Value\"].idxmax()]"
   ]
  },
  {
   "cell_type": "code",
   "execution_count": 9,
   "metadata": {},
   "outputs": [
    {
     "data": {
      "text/plain": [
       "Item Year                                                         1894\n",
       "Original Value                                                     1.2\n",
       "Standard Value                                             0.000115928\n",
       "Original Currency                                 United States Dollar\n",
       "Standard Currency                                               Silver\n",
       "Orignal Measure                                             Kyoto Kuku\n",
       "Standard Measure                                              Kilogram\n",
       "Sources              (Government of Japan) (Financial and Economic ...\n",
       "Notes                (gpih.ucdavis.edu)-(D.S.Jacks_2006-P.A.Lindert...\n",
       "Location                                                         Tokyo\n",
       "Commodity                                                         Salt\n",
       "Variety                                                            NaN\n",
       "Name: 108441, dtype: object"
      ]
     },
     "execution_count": 9,
     "metadata": {},
     "output_type": "execute_result"
    }
   ],
   "source": [
    "df_raw.iloc[df_raw[\"Standard Value\"].idxmin()]"
   ]
  },
  {
   "cell_type": "code",
   "execution_count": 13,
   "metadata": {},
   "outputs": [
    {
     "data": {
      "text/plain": [
       "array(['Allspice', 'Apples', 'Ashes', 'Axe', 'Bacon', 'Bark', 'Barley',\n",
       "       'Bean', 'Beans', 'Beef', 'Beer', 'Boards', 'Books', 'Boots',\n",
       "       'Brandy', 'Bread', 'Brick', 'Bricks', 'Buchwheat', 'Butter',\n",
       "       'Cabbage', 'Candle', 'Candles', 'Canvas', 'Caraway', 'Carp',\n",
       "       'Charcoal', 'Cheese', 'Chicken', 'Chickpeas', 'Chicory',\n",
       "       'Chocolate', 'Cider', 'Cinnamon', 'Cloth', 'Clothing', 'Cloves',\n",
       "       'Coal', 'Coalgas', 'Cocao', 'Cod', 'Codfish', 'Coffee', 'Copper',\n",
       "       'Cordage', 'Cotton', 'Cream', 'Currants', 'Eggs', 'Firewood',\n",
       "       'Fish', 'Flax', 'Flour', 'Garbanzo', 'Gin', 'Ginger', 'Glass',\n",
       "       'Glassware', 'Goat', 'Gold', 'Grain', 'Grains', 'Ham', 'Hay',\n",
       "       'Herring', 'Honey', 'Hops', 'Horse shoes', 'Insurance', 'Iron',\n",
       "       'Kerosene', 'Lamb', 'Lard', 'Lead', 'Lime', 'Linen', 'Maize',\n",
       "       'Malmsey', 'Maple Syrup', 'Meal', 'Meat', 'Milk', 'Millet', 'Miso',\n",
       "       'Molasses', 'Mortar', 'Mustard', 'Mutton', 'Nails', 'Nutmeg',\n",
       "       'Oatmeal', 'Oats', 'Oil', 'Oilcake', 'Oranges', 'Ox', 'Paper',\n",
       "       'Parchment', 'Peas', 'Peat', 'Pepper', 'Pewter', 'Pie Fruits',\n",
       "       'Pike', 'Plum', 'Pork', 'Pork Mess', 'Potato', 'Poultry', 'Print',\n",
       "       'Quicksilver', 'Raisins', 'Rent', 'Rice', 'Rum', 'Rye', 'Saffron',\n",
       "       'Sake', 'Salmon', 'Salt', 'Sausage', 'Saw', 'Scythe', 'Sheeting',\n",
       "       'Shoes', 'Shot', 'Shovel', 'Silk', 'Slave', 'Soap', 'Socks',\n",
       "       'Sorghum', 'Soy', 'Soya Sauce', 'Soybean', 'Speck', 'Spelt',\n",
       "       'Spirits', 'Stockfish', 'Stockings', 'Straw', 'Suet', 'Sugar',\n",
       "       'Tallow', 'Tar', 'Tax', 'Tea', 'Tiles', 'Tobacco',\n",
       "       'Transportation', 'Treacle', 'Trenchers', 'Turkey', 'Turnips',\n",
       "       'Turpentine', 'Underpants', 'Veal', 'Vinegar', 'Wax', 'Wheat',\n",
       "       'Whiskey', 'Wine', 'Wood', 'Wool', 'Yerba'], dtype=object)"
      ]
     },
     "execution_count": 13,
     "metadata": {},
     "output_type": "execute_result"
    }
   ],
   "source": [
    "df_raw[\"Commodity\"].sort_values().unique()"
   ]
  },
  {
   "cell_type": "code",
   "execution_count": 14,
   "metadata": {},
   "outputs": [
    {
     "data": {
      "text/plain": [
       "array(['Aix', 'Akyab', 'Allahabad', 'Amsterdam', 'Ancona', 'Andalusia',\n",
       "       'Angers', 'Antwerp', 'Aragon', 'Arequipa', 'Arezzo', 'Arles',\n",
       "       'Arnhem', 'Ath', 'Augsburg', 'Avignon', 'Backerganj', 'Balasore',\n",
       "       'Bamo', 'Bankura', 'Barcelona', 'Bardwan', 'Bari', 'Basle',\n",
       "       'Bassano', 'Bassein', 'Bavay', 'Beijing', 'Benares', 'Beziers',\n",
       "       'Bilbao', 'Birbhum', 'Bogra', 'Bordeaux', 'Braganca', 'Bravant',\n",
       "       'Brescia', 'Bruges', 'Brussels', 'Buenos Aires',\n",
       "       'Buis Les Baronnies', 'Bulgaria', 'Burgos', 'Cachar', 'Calcutta',\n",
       "       'Cantania', 'Cervera', 'Chateau Gonier', 'Chesapeake', 'Chester',\n",
       "       'Chittagong', 'Clarmont-Ferrand', 'Cologne', 'Colombia',\n",
       "       'Copenhagen', 'Coutances', 'Dacca', 'Danzig', 'Die', 'Douai',\n",
       "       'Draguignan', 'Dresden', 'Edinburgh', 'Edo', 'England', 'Eton',\n",
       "       'Exeter', 'Faridpur', 'Florence', 'France', 'Frankfurt', 'Gdansk',\n",
       "       'Gerona', 'Ghent', 'Goalpara', 'Granada', 'Grenoble', 'Henzada',\n",
       "       'Herentals', 'Hobart', 'Holstein', 'Hooghly', 'Istanbul',\n",
       "       'Jessore', 'Kamrup', 'Konigsberg', 'Krakow', 'Kyaukpyu', 'Kyoto',\n",
       "       'La Coruna', 'Lakhimpur', 'Le Quesnoy', 'Leiden', 'Leipzig',\n",
       "       'Leon', 'Libau', 'Lier', 'Linkoping', 'Lisbon', 'Lleida',\n",
       "       'Lolland', 'Lombardia', 'London', 'Lorca', 'Louvain', 'Lublin',\n",
       "       'Lwow', 'Madrid', 'Maimensing', 'Malda', 'Malines', 'Manbhum',\n",
       "       'Mandalay', 'Marseilles', 'Maryland', 'Massachusetts', 'Mauberge',\n",
       "       'Medina', 'Metz', 'Mexico City', 'Midnapur', 'Milan', 'Milano',\n",
       "       'Modena', 'Mons', 'Montelimar', 'Munich', 'Nancy', 'Nantes',\n",
       "       'Naples', 'Navarre', 'New Castile', 'Old Castile', 'Osaka',\n",
       "       'Oviedo', 'Pamplona', 'Paris', 'Pesaro', 'Pisa', 'Poland', 'Porto',\n",
       "       'Rennes', 'Rostock', 'Rotterdam', 'San Francisco', 'Sansepolcro',\n",
       "       'Santander', 'Santiago', 'Seeland', 'Segovia', 'Senigallia',\n",
       "       'Shanghai', 'Siena', 'Sopron', 'South Carolina',\n",
       "       'Southern England', 'Speyer', 'St Petersburg', 'St Polten',\n",
       "       'Stiftklosterneuberg', 'Stockholm', 'Strasbourg', 'Sydney',\n",
       "       'Thayetmyo', 'Tokyo', 'Tolosa', 'Toulouse', 'Toungoo', 'Tours',\n",
       "       'Tudela', 'Tuscany', 'Udine', 'Utrecht', 'Valence', 'Valencia',\n",
       "       'Valenciennes', 'Valladolid', 'Vermont', 'Vienna', 'Vienne',\n",
       "       'Vitoria', 'Voiron', 'Wallachia', 'Warsaw', 'Wels',\n",
       "       'West Virginia', 'Weyer', 'Winchester', 'Windsor', 'Wollongong',\n",
       "       'Wroclaw', 'Wurzburg', 'Zaragoza'], dtype=object)"
      ]
     },
     "execution_count": 14,
     "metadata": {},
     "output_type": "execute_result"
    }
   ],
   "source": [
    "df_raw[\"Location\"].unique()"
   ]
  },
  {
   "cell_type": "code",
   "execution_count": null,
   "metadata": {},
   "outputs": [],
   "source": [
    "df_raw[\"Original Currency\"].unique()"
   ]
  },
  {
   "cell_type": "code",
   "execution_count": null,
   "metadata": {},
   "outputs": [],
   "source": [
    "print(len(df_raw[\"Variety\"]))\n",
    "df_raw[\"Variety\"].unique()"
   ]
  },
  {
   "cell_type": "code",
   "execution_count": null,
   "metadata": {},
   "outputs": [],
   "source": []
  }
 ],
 "metadata": {
  "kernelspec": {
   "display_name": "Python 3",
   "language": "python",
   "name": "python3"
  },
  "language_info": {
   "codemirror_mode": {
    "name": "ipython",
    "version": 3
   },
   "file_extension": ".py",
   "mimetype": "text/x-python",
   "name": "python",
   "nbconvert_exporter": "python",
   "pygments_lexer": "ipython3",
   "version": "3.6.8"
  }
 },
 "nbformat": 4,
 "nbformat_minor": 4
}
