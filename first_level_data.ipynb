{
 "cells": [
  {
   "cell_type": "markdown",
   "metadata": {},
   "source": [
    "# First Level Data"
   ]
  },
  {
   "cell_type": "code",
   "execution_count": 7,
   "metadata": {},
   "outputs": [],
   "source": [
    "import numpy as np\n",
    "import pandas as pd"
   ]
  },
  {
   "cell_type": "code",
   "execution_count": 8,
   "metadata": {},
   "outputs": [],
   "source": [
    "df_raw = pd.read_csv(\"data_raw/all_commodities.csv\")"
   ]
  },
  {
   "cell_type": "code",
   "execution_count": 9,
   "metadata": {},
   "outputs": [
    {
     "name": "stdout",
     "output_type": "stream",
     "text": [
      "(127255, 12)\n"
     ]
    }
   ],
   "source": [
    "print(df_raw.shape)"
   ]
  },
  {
   "cell_type": "code",
   "execution_count": 10,
   "metadata": {},
   "outputs": [
    {
     "data": {
      "text/html": [
       "<div>\n",
       "<style scoped>\n",
       "    .dataframe tbody tr th:only-of-type {\n",
       "        vertical-align: middle;\n",
       "    }\n",
       "\n",
       "    .dataframe tbody tr th {\n",
       "        vertical-align: top;\n",
       "    }\n",
       "\n",
       "    .dataframe thead th {\n",
       "        text-align: right;\n",
       "    }\n",
       "</style>\n",
       "<table border=\"1\" class=\"dataframe\">\n",
       "  <thead>\n",
       "    <tr style=\"text-align: right;\">\n",
       "      <th></th>\n",
       "      <th>Item Year</th>\n",
       "      <th>Original Value</th>\n",
       "      <th>Standard Value</th>\n",
       "      <th>Original Currency</th>\n",
       "      <th>Standard Currency</th>\n",
       "      <th>Orignal Measure</th>\n",
       "      <th>Standard Measure</th>\n",
       "      <th>Sources</th>\n",
       "      <th>Notes</th>\n",
       "      <th>Location</th>\n",
       "      <th>Commodity</th>\n",
       "      <th>Variety</th>\n",
       "    </tr>\n",
       "  </thead>\n",
       "  <tbody>\n",
       "  </tbody>\n",
       "</table>\n",
       "</div>"
      ],
      "text/plain": [
       "Empty DataFrame\n",
       "Columns: [Item Year, Original Value, Standard Value, Original Currency, Standard Currency, Orignal Measure, Standard Measure, Sources, Notes, Location, Commodity, Variety]\n",
       "Index: []"
      ]
     },
     "execution_count": 10,
     "metadata": {},
     "output_type": "execute_result"
    }
   ],
   "source": [
    "df_raw.head(0)"
   ]
  },
  {
   "cell_type": "code",
   "execution_count": 11,
   "metadata": {},
   "outputs": [
    {
     "data": {
      "text/plain": [
       "count     127255\n",
       "unique       165\n",
       "top        Wheat\n",
       "freq       23129\n",
       "Name: Commodity, dtype: object"
      ]
     },
     "execution_count": 11,
     "metadata": {},
     "output_type": "execute_result"
    }
   ],
   "source": [
    "df_raw[\"Commodity\"].describe()"
   ]
  },
  {
   "cell_type": "code",
   "execution_count": 12,
   "metadata": {},
   "outputs": [
    {
     "data": {
      "text/plain": [
       "count    127255.000000\n",
       "mean         54.156522\n",
       "std         954.797964\n",
       "min           0.000116\n",
       "25%           0.357736\n",
       "50%           1.149183\n",
       "75%           7.425000\n",
       "max      107372.805540\n",
       "Name: Standard Value, dtype: float64"
      ]
     },
     "execution_count": 12,
     "metadata": {},
     "output_type": "execute_result"
    }
   ],
   "source": [
    "df_raw[\"Standard Value\"].describe()"
   ]
  },
  {
   "cell_type": "code",
   "execution_count": 15,
   "metadata": {},
   "outputs": [
    {
     "data": {
      "text/plain": [
       "Wheat         23129\n",
       "Rye            9239\n",
       "Barley         8601\n",
       "Wine           4678\n",
       "Oats           4563\n",
       "              ...  \n",
       "Oranges           7\n",
       "Speck             5\n",
       "Buchwheat         5\n",
       "Underpants        4\n",
       "Fish              4\n",
       "Name: Commodity, Length: 165, dtype: int64"
      ]
     },
     "execution_count": 15,
     "metadata": {},
     "output_type": "execute_result"
    }
   ],
   "source": [
    "df_raw[\"Commodity\"].value_counts()"
   ]
  },
  {
   "cell_type": "code",
   "execution_count": 13,
   "metadata": {},
   "outputs": [
    {
     "data": {
      "text/plain": [
       "Item Year                                                         1567\n",
       "Original Value                                                 1594.18\n",
       "Standard Value                                                  107373\n",
       "Original Currency                                          White Grosz\n",
       "Standard Currency                                               Silver\n",
       "Orignal Measure                                         Wroclaw Length\n",
       "Standard Measure                                        Wroclaw Length\n",
       "Sources              (M. Wolanski) (Ceny we Wroclawiu w Latach 1506...\n",
       "Notes                (gpih.ucdavis.edu)-(D.S.Jacks_2002-P.H.Lindert...\n",
       "Location                                                       Wroclaw\n",
       "Commodity                                                        Cloth\n",
       "Variety                                                            NaN\n",
       "Name: 125024, dtype: object"
      ]
     },
     "execution_count": 13,
     "metadata": {},
     "output_type": "execute_result"
    }
   ],
   "source": [
    "df_raw.iloc[df_raw[\"Standard Value\"].idxmax()]"
   ]
  },
  {
   "cell_type": "code",
   "execution_count": 14,
   "metadata": {},
   "outputs": [
    {
     "data": {
      "text/plain": [
       "Item Year                                                         1894\n",
       "Original Value                                                     1.2\n",
       "Standard Value                                             0.000115928\n",
       "Original Currency                                 United States Dollar\n",
       "Standard Currency                                               Silver\n",
       "Orignal Measure                                             Kyoto Kuku\n",
       "Standard Measure                                              Kilogram\n",
       "Sources              (Government of Japan) (Financial and Economic ...\n",
       "Notes                (gpih.ucdavis.edu)-(D.S.Jacks_2006-P.A.Lindert...\n",
       "Location                                                         Tokyo\n",
       "Commodity                                                         Salt\n",
       "Variety                                                            NaN\n",
       "Name: 108441, dtype: object"
      ]
     },
     "execution_count": 14,
     "metadata": {},
     "output_type": "execute_result"
    }
   ],
   "source": [
    "df_raw.iloc[df_raw[\"Standard Value\"].idxmin()]"
   ]
  },
  {
   "cell_type": "code",
   "execution_count": 5,
   "metadata": {},
   "outputs": [
    {
     "data": {
      "text/plain": [
       "array(['Wheat', 'Rice', 'Rye', 'Beef', 'Eggs', 'Oil', 'Soap', 'Sugar',\n",
       "       'Wine', 'Barley', 'Oats', 'Charcoal', 'Cheese', 'Cinnamon',\n",
       "       'Cloth', 'Cloves', 'Ginger', 'Herring', 'Lime', 'Pepper',\n",
       "       'Saffron', 'Nails', 'Paper', 'Iron', 'Beer', 'Candles', 'Canvas',\n",
       "       'Carp', 'Flax', 'Peas', 'Pork', 'Salt', 'Veal', 'Flour', 'Millet',\n",
       "       'Wax', 'Butter', 'Firewood', 'Hops', 'Beans', 'Chickpeas', 'Lard',\n",
       "       'Meat', 'Wood', 'Yerba', 'Coffee', 'Tea', 'Cocao', 'Garbanzo',\n",
       "       'Honey', 'Maize', 'Milk', 'Bacon', 'Brandy', 'Lamb', 'Peat',\n",
       "       'Stockfish', 'Tallow', 'Candle', 'Miso', 'Sake', 'Soya Sauce',\n",
       "       'Tobacco', 'Vinegar', 'Books', 'Bread', 'Bricks', 'Cider',\n",
       "       'Clothing', 'Coal', 'Coalgas', 'Cod', 'Cotton', 'Cream',\n",
       "       'Currants', 'Glassware', 'Hay', 'Mustard', 'Mutton', 'Oatmeal',\n",
       "       'Parchment', 'Pewter', 'Raisins', 'Rent', 'Salmon', 'Shoes',\n",
       "       'Shovel', 'Silk', 'Straw', 'Suet', 'Treacle', 'Trenchers', 'Wool',\n",
       "       'Chicken', 'Fish', 'Goat', 'Grain', 'Mortar', 'Ox', 'Sausage',\n",
       "       'Copper', 'Lead', 'Ham', 'Linen', 'Nutmeg', 'Chicory', 'Gin',\n",
       "       'Kerosene', 'Turnips', 'Gold', 'Spirits', 'Bark', 'Axe',\n",
       "       'Horse shoes', 'Saw', 'Scythe', 'Tar', 'Grains', 'Rum', 'Whiskey',\n",
       "       'Chocolate', 'Codfish', 'Potato', 'Socks', 'Stockings', 'Brick',\n",
       "       'Tiles', 'Bean', 'Sorghum', 'Spelt', 'Boards', 'Cordage',\n",
       "       'Pie Fruits', 'Pork Mess', 'Quicksilver', 'Sheeting', 'Shot',\n",
       "       'Turpentine', 'Boots', 'Buchwheat', 'Caraway', 'Meal', 'Oranges',\n",
       "       'Speck', 'Underpants', 'Slave', 'Oilcake', 'Soy', 'Soybean',\n",
       "       'Apples', 'Ashes', 'Glass', 'Insurance', 'Maple Syrup', 'Molasses',\n",
       "       'Print', 'Tax', 'Transportation', 'Turkey', 'Pike', 'Allspice',\n",
       "       'Poultry', 'Cabbage', 'Malmsey', 'Plum'], dtype=object)"
      ]
     },
     "execution_count": 5,
     "metadata": {},
     "output_type": "execute_result"
    }
   ],
   "source": [
    "df_raw[\"Commodity\"].unique()"
   ]
  },
  {
   "cell_type": "code",
   "execution_count": 7,
   "metadata": {},
   "outputs": [
    {
     "data": {
      "text/plain": [
       "array(['Aix', 'Akyab', 'Allahabad', 'Amsterdam', 'Ancona', 'Andalusia',\n",
       "       'Angers', 'Antwerp', 'Aragon', 'Arequipa', 'Arezzo', 'Arles',\n",
       "       'Arnhem', 'Ath', 'Augsburg', 'Avignon', 'Backerganj', 'Balasore',\n",
       "       'Bamo', 'Bankura', 'Barcelona', 'Bardwan', 'Bari', 'Basle',\n",
       "       'Bassano', 'Bassein', 'Bavay', 'Beijing', 'Benares', 'Beziers',\n",
       "       'Bilbao', 'Birbhum', 'Bogra', 'Bordeaux', 'Braganca', 'Bravant',\n",
       "       'Brescia', 'Bruges', 'Brussels', 'Buenos Aires',\n",
       "       'Buis Les Baronnies', 'Bulgaria', 'Burgos', 'Cachar', 'Calcutta',\n",
       "       'Cantania', 'Cervera', 'Chateau Gonier', 'Chesapeake', 'Chester',\n",
       "       'Chittagong', 'Clarmont-Ferrand', 'Cologne', 'Colombia',\n",
       "       'Copenhagen', 'Coutances', 'Dacca', 'Danzig', 'Die', 'Douai',\n",
       "       'Draguignan', 'Dresden', 'Edinburgh', 'Edo', 'England', 'Eton',\n",
       "       'Exeter', 'Faridpur', 'Florence', 'France', 'Frankfurt', 'Gdansk',\n",
       "       'Gerona', 'Ghent', 'Goalpara', 'Granada', 'Grenoble', 'Henzada',\n",
       "       'Herentals', 'Hobart', 'Holstein', 'Hooghly', 'Istanbul',\n",
       "       'Jessore', 'Kamrup', 'Konigsberg', 'Krakow', 'Kyaukpyu', 'Kyoto',\n",
       "       'La Coruna', 'Lakhimpur', 'Le Quesnoy', 'Leiden', 'Leipzig',\n",
       "       'Leon', 'Libau', 'Lier', 'Linkoping', 'Lisbon', 'Lleida',\n",
       "       'Lolland', 'Lombardia', 'London', 'Lorca', 'Louvain', 'Lublin',\n",
       "       'Lwow', 'Madrid', 'Maimensing', 'Malda', 'Malines', 'Manbhum',\n",
       "       'Mandalay', 'Marseilles', 'Maryland', 'Massachusetts', 'Mauberge',\n",
       "       'Medina', 'Metz', 'Mexico City', 'Midnapur', 'Milan', 'Milano',\n",
       "       'Modena', 'Mons', 'Montelimar', 'Munich', 'Nancy', 'Nantes',\n",
       "       'Naples', 'Navarre', 'New Castile', 'Old Castile', 'Osaka',\n",
       "       'Oviedo', 'Pamplona', 'Paris', 'Pesaro', 'Pisa', 'Poland', 'Porto',\n",
       "       'Rennes', 'Rostock', 'Rotterdam', 'San Francisco', 'Sansepolcro',\n",
       "       'Santander', 'Santiago', 'Seeland', 'Segovia', 'Senigallia',\n",
       "       'Shanghai', 'Siena', 'Sopron', 'South Carolina',\n",
       "       'Southern England', 'Speyer', 'St Petersburg', 'St Polten',\n",
       "       'Stiftklosterneuberg', 'Stockholm', 'Strasbourg', 'Sydney',\n",
       "       'Thayetmyo', 'Tokyo', 'Tolosa', 'Toulouse', 'Toungoo', 'Tours',\n",
       "       'Tudela', 'Tuscany', 'Udine', 'Utrecht', 'Valence', 'Valencia',\n",
       "       'Valenciennes', 'Valladolid', 'Vermont', 'Vienna', 'Vienne',\n",
       "       'Vitoria', 'Voiron', 'Wallachia', 'Warsaw', 'Wels',\n",
       "       'West Virginia', 'Weyer', 'Winchester', 'Windsor', 'Wollongong',\n",
       "       'Wroclaw', 'Wurzburg', 'Zaragoza'], dtype=object)"
      ]
     },
     "execution_count": 7,
     "metadata": {},
     "output_type": "execute_result"
    }
   ],
   "source": [
    "df_raw[\"Location\"].unique()"
   ]
  },
  {
   "cell_type": "code",
   "execution_count": 8,
   "metadata": {},
   "outputs": [
    {
     "data": {
      "text/plain": [
       "array(['Tours Livre', 'British Rupee', 'Silver', 'English Pence',\n",
       "       'New Castile vellon maravedis', 'Brabant groat', 'Aragon Penny',\n",
       "       'South American Real', 'Latin American Pesos', 'Dutch Guilder',\n",
       "       'Augsburg Dinar', 'Augsburg Pfennig', 'Paris Livra',\n",
       "       'Sueldo de Cataluna', 'Alsace Franc', 'Italian Soldo',\n",
       "       'Tours shilling', 'United States Dollar', 'English Shilling',\n",
       "       'Portugal Reis', 'Italian Lire', 'Flemish Grote', 'Indias Real',\n",
       "       'French Franc', 'Spanish Real', 'British Pound', 'Virginia Pound',\n",
       "       'Cologne Albus', 'Danish Skilling', 'Osaka Monme',\n",
       "       'English Reference Year 1371', 'Florentine Silver Grain',\n",
       "       'Florentine Soldi', 'Florentine Denari',\n",
       "       'Florence Shillings Picioli', 'Florentine Lira',\n",
       "       'Frankfurt pfennig', 'Belgian Franc', 'Istanbul Akche',\n",
       "       'Krakow pence', 'Gold', 'Krakow Zloty', 'Flemish Groot',\n",
       "       'Leipzig pfennig', 'Swedish Riksdaler', 'Lira Milanesi',\n",
       "       'Mexican Real', 'Milanesi Soldi', 'Modenese Soldi', 'Munich denar',\n",
       "       'Nantes Centime', 'Naples Carlini', 'Navarrese penny',\n",
       "       'Old Castile vellon maravedis', 'Pisa Lira', 'US Penny',\n",
       "       'New Castile Real', 'Shanghai Tael', 'Speyer pfennig',\n",
       "       'South German Kreuzer', 'Swedish Kronor', 'Utrecht stuiver',\n",
       "       'Valencian Penny', 'Valencian Denar', 'Valencia pence',\n",
       "       'Sueldo de Valencia', 'Valladolid Maravedi', 'Vienna kreuzer',\n",
       "       'Vienna Pfennig', 'Wallachian Leu', 'White Grosz',\n",
       "       'Wurzburg denar'], dtype=object)"
      ]
     },
     "execution_count": 8,
     "metadata": {},
     "output_type": "execute_result"
    }
   ],
   "source": [
    "df_raw[\"Original Currency\"].unique()"
   ]
  },
  {
   "cell_type": "code",
   "execution_count": 12,
   "metadata": {},
   "outputs": [
    {
     "name": "stdout",
     "output_type": "stream",
     "text": [
      "127255\n"
     ]
    },
    {
     "data": {
      "text/plain": [
       "array([nan, 'British Empirial', 'Koenigsberg', 'Polish', 'Olive',\n",
       "       'Brewer', 'Oak', 'Woolen', 'Ground', 'Loaf', 'Large', 'Brown',\n",
       "       'White', 'Piece', 'Linseed', 'Writing', 'Writing-Median', 'New',\n",
       "       'Bean', 'Corn', 'Wheat', 'Retail', 'Wholesale', 'Late', 'Tallow',\n",
       "       'Flemish Red', 'Salted', 'San Pedro Telmo', 'Civil', 'Fine',\n",
       "       'Salt', 'French', 'Icelandi salted', 'Train', 'Danish', 'Spanish',\n",
       "       'Icelandic', 'Lamp', 'Zencha', 'Mugi', 'Strong', 'Cotton', 'Linen',\n",
       "       'Wool', 'Stockings', 'Suit', 'Workgloves', 'North', 'Pithead',\n",
       "       'Southern', 'Bottle', 'Manufactured', 'Manufactured Items', 'Pig',\n",
       "       'Foolscap', 'Housing', 'Spade', 'Thread', 'Candle', 'Equipment',\n",
       "       'Port', 'Coat-White', 'Gown-White', 'Sacking', 'Backbone',\n",
       "       'Wrought', 'Einbecker', 'Frankfurter', 'Hollander', 'speis',\n",
       "       'English Black', 'English Red', 'Dornwellen', 'Holzwellen',\n",
       "       'Rhine', 'Rye', 'London Import', 'Velvet', 'Double', 'Hard',\n",
       "       'Soft', 'Western Europe', 'St. Georgen', 'Rapeseed',\n",
       "       'French-Iberian', 'Zeeland', 'Birchbark', 'Baltic', 'Bar',\n",
       "       'Horse shoe', 'Batten', 'Sail', 'Bulk', 'Tow', 'Jamaica',\n",
       "       'Merchantable', 'Refuse', 'Letter', 'Woolen-High', 'Woolen-Low',\n",
       "       'High', 'Low', 'Mid', 'Alto', 'Basso', 'Red Common',\n",
       "       'Bleached Cotton', 'Glutinous', 'Wax', 'Fave', 'Vetches',\n",
       "       'Chestnut', 'Black', 'Dozzinale', 'Green', 'Green Fired', 'Bars',\n",
       "       'Dust', 'Mercury', 'Lower Yangzi', 'Peng', 'Kauf', 'Verkauf',\n",
       "       'Ausschank', 'Lot', 'Garnet', 'Holland', 'Italian', 'Kersey',\n",
       "       'London fine', 'Nurenburg', 'Paduan', 'Says', 'Scarlet',\n",
       "       'Venitian', 'Adler', 'COuncept', 'Post', 'Rock', 'Probate',\n",
       "       'Probate Deflated', 'Sale', 'Swedish', 'Shirting', 'Japanese',\n",
       "       'Dried', 'Dressed', 'Leather', 'Factory', 'Window-Medium',\n",
       "       'Window-Small', 'Fire', 'Paid', 'Recieved', 'Maple',\n",
       "       'Personal property', 'Real estate', 'Freight-Ton', 'Passenger',\n",
       "       'Calves', 'Unwashed', 'Washed', 'Gerste', 'Branauer',\n",
       "       'Freistaedter', 'Iglauer', 'Regensburger', 'Schweinitzer',\n",
       "       'Chancellery', 'Rough', 'Domestic', 'Foreign', 'Wild', 'Brugge',\n",
       "       'Silesian', 'Parchment', 'Royal', 'Swidnica', 'Damask', 'Marc'],\n",
       "      dtype=object)"
      ]
     },
     "execution_count": 12,
     "metadata": {},
     "output_type": "execute_result"
    }
   ],
   "source": [
    "print(len(df_raw[\"Variety\"]))\n",
    "df_raw[\"Variety\"].unique()"
   ]
  },
  {
   "cell_type": "code",
   "execution_count": null,
   "metadata": {},
   "outputs": [],
   "source": []
  }
 ],
 "metadata": {
  "kernelspec": {
   "display_name": "Python 3",
   "language": "python",
   "name": "python3"
  },
  "language_info": {
   "codemirror_mode": {
    "name": "ipython",
    "version": 3
   },
   "file_extension": ".py",
   "mimetype": "text/x-python",
   "name": "python",
   "nbconvert_exporter": "python",
   "pygments_lexer": "ipython3",
   "version": "3.6.8"
  }
 },
 "nbformat": 4,
 "nbformat_minor": 4
}
