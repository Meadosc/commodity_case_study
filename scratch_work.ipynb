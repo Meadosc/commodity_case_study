{
 "cells": [
  {
   "cell_type": "markdown",
   "metadata": {},
   "source": [
    "# Scratch Work"
   ]
  },
  {
   "cell_type": "code",
   "execution_count": 1,
   "metadata": {},
   "outputs": [],
   "source": [
    "import numpy as np\n",
    "import pandas as pd\n",
    "import matplotlib.pyplot as plt\n",
    "\n",
    "from helper.helper import comm_loc_df\n",
    "from helper.helper import miss_years\n",
    "from helper.helper import df_plot"
   ]
  },
  {
   "cell_type": "code",
   "execution_count": 11,
   "metadata": {},
   "outputs": [
    {
     "name": "stdout",
     "output_type": "stream",
     "text": [
      "Missing years: [1238, 1239, 1240, 1241, 1242, 1243, 1244, 1250, 1256, 1259]\n"
     ]
    },
    {
     "data": {
      "image/png": "[encoded data removed]",
      "text/plain": [
       "<Figure size 432x288 with 1 Axes>"
      ]
     },
     "metadata": {
      "needs_background": "light"
     },
     "output_type": "display_data"
    }
   ],
   "source": [
    "df_comm = comm_loc_df(\"Wheat\", \"England\")\n",
    "print(f\"Missing years: {miss_years(df_comm)}\")\n",
    "fig, ax = df_plot(df_comm)"
   ]
  },
  {
   "cell_type": "code",
   "execution_count": 16,
   "metadata": {},
   "outputs": [
    {
     "name": "stdout",
     "output_type": "stream",
     "text": [
      "Min: 965 \n",
      "Max: 1983\n"
     ]
    }
   ],
   "source": [
    "df_raw = pd.read_csv(\"data_raw/all_commodities.csv\")\n",
    "minim = df_raw[\"Item Year\"].min()\n",
    "maxim = df_raw[\"Item Year\"].max()\n",
    "print(f\"Min: {minim} \\nMax: {maxim}\")\n",
    "      "
   ]
  },
  {
   "cell_type": "code",
   "execution_count": 19,
   "metadata": {},
   "outputs": [
    {
     "data": {
      "text/plain": [
       "array(['Bacon', 'Barley', 'Boards', 'Butter', 'Candles', 'Coal', 'Coffee',\n",
       "       'Cordage', 'Flour', 'Gold', 'Iron', 'Pie Fruits', 'Pork Mess',\n",
       "       'Quicksilver', 'Raisins', 'Rice', 'Salmon', 'Salt', 'Sheeting',\n",
       "       'Shot', 'Shovel', 'Soap', 'Sugar', 'Tea', 'Tobacco', 'Turpentine',\n",
       "       'Wheat', 'Whiskey', 'Wool'], dtype=object)"
      ]
     },
     "execution_count": 19,
     "metadata": {},
     "output_type": "execute_result"
    }
   ],
   "source": [
    "df_sf = df_raw[df_raw[\"Location\"] == \"San Francisco\"]\n",
    "df_sf[\"Commodity\"].unique()"
   ]
  },
  {
   "cell_type": "code",
   "execution_count": 22,
   "metadata": {},
   "outputs": [
    {
     "data": {
      "text/html": [
       "<div>\n",
       "<style scoped>\n",
       "    .dataframe tbody tr th:only-of-type {\n",
       "        vertical-align: middle;\n",
       "    }\n",
       "\n",
       "    .dataframe tbody tr th {\n",
       "        vertical-align: top;\n",
       "    }\n",
       "\n",
       "    .dataframe thead th {\n",
       "        text-align: right;\n",
       "    }\n",
       "</style>\n",
       "<table border=\"1\" class=\"dataframe\">\n",
       "  <thead>\n",
       "    <tr style=\"text-align: right;\">\n",
       "      <th></th>\n",
       "      <th>Item Year</th>\n",
       "      <th>Original Value</th>\n",
       "      <th>Standard Value</th>\n",
       "      <th>Original Currency</th>\n",
       "      <th>Standard Currency</th>\n",
       "      <th>Orignal Measure</th>\n",
       "      <th>Standard Measure</th>\n",
       "      <th>Sources</th>\n",
       "      <th>Notes</th>\n",
       "      <th>Location</th>\n",
       "      <th>Commodity</th>\n",
       "      <th>Variety</th>\n",
       "    </tr>\n",
       "  </thead>\n",
       "  <tbody>\n",
       "    <tr>\n",
       "      <th>97601</th>\n",
       "      <td>1848</td>\n",
       "      <td>20.0</td>\n",
       "      <td>11.181828</td>\n",
       "      <td>US Penny</td>\n",
       "      <td>Silver</td>\n",
       "      <td>England British Pound</td>\n",
       "      <td>Kilogram</td>\n",
       "      <td>(Ruth Crandall) (Wholesale Commodity Prices in...</td>\n",
       "      <td>(gpih.ucdavis.edu)</td>\n",
       "      <td>San Francisco</td>\n",
       "      <td>Bacon</td>\n",
       "      <td>NaN</td>\n",
       "    </tr>\n",
       "    <tr>\n",
       "      <th>97602</th>\n",
       "      <td>1849</td>\n",
       "      <td>27.1</td>\n",
       "      <td>15.080885</td>\n",
       "      <td>US Penny</td>\n",
       "      <td>Silver</td>\n",
       "      <td>England British Pound</td>\n",
       "      <td>Kilogram</td>\n",
       "      <td>(Ruth Crandall) (Wholesale Commodity Prices in...</td>\n",
       "      <td>(gpih.ucdavis.edu)</td>\n",
       "      <td>San Francisco</td>\n",
       "      <td>Bacon</td>\n",
       "      <td>NaN</td>\n",
       "    </tr>\n",
       "    <tr>\n",
       "      <th>97603</th>\n",
       "      <td>1850</td>\n",
       "      <td>17.1</td>\n",
       "      <td>9.471915</td>\n",
       "      <td>US Penny</td>\n",
       "      <td>Silver</td>\n",
       "      <td>England British Pound</td>\n",
       "      <td>Kilogram</td>\n",
       "      <td>(Ruth Crandall) (Wholesale Commodity Prices in...</td>\n",
       "      <td>(gpih.ucdavis.edu)</td>\n",
       "      <td>San Francisco</td>\n",
       "      <td>Bacon</td>\n",
       "      <td>NaN</td>\n",
       "    </tr>\n",
       "    <tr>\n",
       "      <th>97604</th>\n",
       "      <td>1851</td>\n",
       "      <td>12.6</td>\n",
       "      <td>6.873860</td>\n",
       "      <td>US Penny</td>\n",
       "      <td>Silver</td>\n",
       "      <td>England British Pound</td>\n",
       "      <td>Kilogram</td>\n",
       "      <td>(Ruth Crandall) (Wholesale Commodity Prices in...</td>\n",
       "      <td>(gpih.ucdavis.edu)</td>\n",
       "      <td>San Francisco</td>\n",
       "      <td>Bacon</td>\n",
       "      <td>NaN</td>\n",
       "    </tr>\n",
       "    <tr>\n",
       "      <th>97605</th>\n",
       "      <td>1852</td>\n",
       "      <td>21.1</td>\n",
       "      <td>11.596940</td>\n",
       "      <td>US Penny</td>\n",
       "      <td>Silver</td>\n",
       "      <td>England British Pound</td>\n",
       "      <td>Kilogram</td>\n",
       "      <td>(Ruth Crandall) (Wholesale Commodity Prices in...</td>\n",
       "      <td>(gpih.ucdavis.edu)</td>\n",
       "      <td>San Francisco</td>\n",
       "      <td>Bacon</td>\n",
       "      <td>NaN</td>\n",
       "    </tr>\n",
       "  </tbody>\n",
       "</table>\n",
       "</div>"
      ],
      "text/plain": [
       "       Item Year  Original Value  Standard Value Original Currency  \\\n",
       "97601       1848            20.0       11.181828          US Penny   \n",
       "97602       1849            27.1       15.080885          US Penny   \n",
       "97603       1850            17.1        9.471915          US Penny   \n",
       "97604       1851            12.6        6.873860          US Penny   \n",
       "97605       1852            21.1       11.596940          US Penny   \n",
       "\n",
       "      Standard Currency        Orignal Measure Standard Measure  \\\n",
       "97601            Silver  England British Pound         Kilogram   \n",
       "97602            Silver  England British Pound         Kilogram   \n",
       "97603            Silver  England British Pound         Kilogram   \n",
       "97604            Silver  England British Pound         Kilogram   \n",
       "97605            Silver  England British Pound         Kilogram   \n",
       "\n",
       "                                                 Sources               Notes  \\\n",
       "97601  (Ruth Crandall) (Wholesale Commodity Prices in...  (gpih.ucdavis.edu)   \n",
       "97602  (Ruth Crandall) (Wholesale Commodity Prices in...  (gpih.ucdavis.edu)   \n",
       "97603  (Ruth Crandall) (Wholesale Commodity Prices in...  (gpih.ucdavis.edu)   \n",
       "97604  (Ruth Crandall) (Wholesale Commodity Prices in...  (gpih.ucdavis.edu)   \n",
       "97605  (Ruth Crandall) (Wholesale Commodity Prices in...  (gpih.ucdavis.edu)   \n",
       "\n",
       "            Location Commodity Variety  \n",
       "97601  San Francisco     Bacon     NaN  \n",
       "97602  San Francisco     Bacon     NaN  \n",
       "97603  San Francisco     Bacon     NaN  \n",
       "97604  San Francisco     Bacon     NaN  \n",
       "97605  San Francisco     Bacon     NaN  "
      ]
     },
     "execution_count": 22,
     "metadata": {},
     "output_type": "execute_result"
    }
   ],
   "source": [
    "df_sf.head()"
   ]
  },
  {
   "cell_type": "code",
   "execution_count": null,
   "metadata": {},
   "outputs": [],
   "source": []
  }
 ],
 "metadata": {
  "kernelspec": {
   "display_name": "Python 3",
   "language": "python",
   "name": "python3"
  },
  "language_info": {
   "codemirror_mode": {
    "name": "ipython",
    "version": 3
   },
   "file_extension": ".py",
   "mimetype": "text/x-python",
   "name": "python",
   "nbconvert_exporter": "python",
   "pygments_lexer": "ipython3",
   "version": "3.6.8"
  }
 },
 "nbformat": 4,
 "nbformat_minor": 4
}
